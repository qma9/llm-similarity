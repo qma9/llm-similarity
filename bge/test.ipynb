{
 "cells": [
  {
   "cell_type": "code",
   "execution_count": 1,
   "metadata": {},
   "outputs": [],
   "source": [
    "# Thrid party libs\n",
    "import dask.dataframe as dd\n",
    "import pandas as pd\n",
    "import numpy as np\n",
    "import matplotlib.pyplot as plt\n",
    "%matplotlib inline\n",
    "plt.style.use('ggplot')\n",
    "\n",
    "# System libs\n",
    "import datetime as dt\n",
    "import time\n",
    "import os\n",
    "import csv\n",
    "import sys\n",
    "sys.path.append(os.path.join(os.getcwd(), \"..\"))\n",
    "\n",
    "# Local imports\n",
    "from utils import normalize_embeddings\n",
    "import examples"
   ]
  },
  {
   "cell_type": "code",
   "execution_count": 2,
   "metadata": {},
   "outputs": [],
   "source": [
    "nested_list = [\n",
    "    [1, 2, 3, 4],\n",
    "    [5, 6, 7, 8],\n",
    "    [9, 0, 1, 2],\n",
    "    [3, 4, 5, 6],\n",
    "    [7, 8, 9, 0],\n",
    "    [1, 2, 3, 4],\n",
    "    [5, 6, 7, 8],\n",
    "    [9, 0, 1, 2],\n",
    "    [3, 4, 5, 6],\n",
    "    [7, 8, 9, 0]\n",
    "]"
   ]
  },
  {
   "cell_type": "code",
   "execution_count": 3,
   "metadata": {},
   "outputs": [],
   "source": [
    "result = normalize_embeddings(nested_list)"
   ]
  },
  {
   "cell_type": "code",
   "execution_count": 4,
   "metadata": {},
   "outputs": [
    {
     "data": {
      "text/plain": [
       "[array([0.18257419, 0.36514837, 0.54772256, 0.73029674]),\n",
       " array([0.37904902, 0.45485883, 0.53066863, 0.60647843]),\n",
       " array([0.97049496, 0.        , 0.10783277, 0.21566555]),\n",
       " array([0.32349832, 0.43133109, 0.53916387, 0.64699664]),\n",
       " array([0.50257071, 0.57436653, 0.64616234, 0.        ]),\n",
       " array([0.18257419, 0.36514837, 0.54772256, 0.73029674]),\n",
       " array([0.37904902, 0.45485883, 0.53066863, 0.60647843]),\n",
       " array([0.97049496, 0.        , 0.10783277, 0.21566555]),\n",
       " array([0.32349832, 0.43133109, 0.53916387, 0.64699664]),\n",
       " array([0.50257071, 0.57436653, 0.64616234, 0.        ])]"
      ]
     },
     "execution_count": 4,
     "metadata": {},
     "output_type": "execute_result"
    }
   ],
   "source": [
    "result"
   ]
  },
  {
   "cell_type": "code",
   "execution_count": null,
   "metadata": {},
   "outputs": [],
   "source": []
  }
 ],
 "metadata": {
  "kernelspec": {
   "display_name": ".venv",
   "language": "python",
   "name": "python3"
  },
  "language_info": {
   "codemirror_mode": {
    "name": "ipython",
    "version": 3
   },
   "file_extension": ".py",
   "mimetype": "text/x-python",
   "name": "python",
   "nbconvert_exporter": "python",
   "pygments_lexer": "ipython3",
   "version": "3.10.12"
  }
 },
 "nbformat": 4,
 "nbformat_minor": 2
}
