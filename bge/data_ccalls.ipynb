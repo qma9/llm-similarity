{
 "cells": [
  {
   "cell_type": "code",
   "execution_count": 15,
   "metadata": {},
   "outputs": [],
   "source": [
    "import dask.dataframe as dd\n",
    "from dask.distributed import Client\n",
    "import time\n",
    "import numpy as np\n",
    "import os\n",
    "import datetime as dt\n",
    "import csv\n",
    "import pandas as pd\n",
    "import matplotlib.pyplot as plt\n",
    "\n",
    "%matplotlib inline\n",
    "plt.style.use('ggplot')"
   ]
  },
  {
   "cell_type": "code",
   "execution_count": 2,
   "metadata": {},
   "outputs": [],
   "source": [
    "# Data config\n",
    "DATA: str = \"/media/ssdraid/quentinmowat-amiet/Dropbox (IESE)/earnings_calls/Originals/Conference Calls/OLD/ccalls_from_stata.csv\"  # CCALLS_copy.csv\n",
    "DTYPE: dict = {'gvkey': 'int', 'new_text': 'object'}      # {'job': str, 'year': int, 'quarter': str, 'text': str, 'conm': str, 'gvkey': float}, was throwing error\n"
   ]
  },
  {
   "cell_type": "code",
   "execution_count": null,
   "metadata": {},
   "outputs": [],
   "source": [
    "JOB: str = \"CEO\""
   ]
  },
  {
   "cell_type": "code",
   "execution_count": 3,
   "metadata": {},
   "outputs": [],
   "source": [
    "# Import earnings calls as dask dataframe\n",
    "ddf = dd.read_csv(DATA, dtype = DTYPE)\n",
    "\n",
    "# Subset ddf for questions from media\n",
    "# df = ddf[ddf['job'] == JOB].compute().reset_index(drop = True)\n",
    "\n",
    "# Obtain array of questions from text column\n",
    "# questions = df['text'].values"
   ]
  },
  {
   "cell_type": "code",
   "execution_count": null,
   "metadata": {},
   "outputs": [],
   "source": [
    "# # Q and A\n",
    "# \"\\nQUESTIONS AND ANSWERS\\n\"\n",
    "# ddf['q_and_a_count'] = ddf['text'].str.count('\\nQUESTIONS AND ANSWERS\\n')\n",
    "# q_and_a_count = ddf['q_and_a_count'].compute().value_counts().to_frame().reset_index()\n",
    "# q_and_a_count"
   ]
  },
  {
   "cell_type": "code",
   "execution_count": 37,
   "metadata": {},
   "outputs": [
    {
     "name": "stdout",
     "output_type": "stream",
     "text": [
      "name\n",
      "company\n",
      "job\n",
      "year\n",
      "quarter\n",
      "text\n",
      "document\n",
      "year_in_file\n",
      "year_f\n",
      "year_final\n",
      "counter\n",
      "mea\n",
      "merger\n",
      "acquisition\n",
      "_merge\n",
      "conm\n",
      "gvkey\n",
      "question_intext\n",
      "analyst\n",
      "new_text\n"
     ]
    }
   ],
   "source": [
    "for i in ddf.columns:\n",
    "    print(i)"
   ]
  },
  {
   "cell_type": "code",
   "execution_count": 22,
   "metadata": {},
   "outputs": [],
   "source": [
    "def get_counts(ddf: dd) -> pd.DataFrame:\n",
    "    \"\"\"Get dictionary of unqiue counts for each column in dask.dataframe\"\"\"\n",
    "    return {column: ddf[column].compute().value_counts().to_frame().reset_index() for column in ddf.columns}"
   ]
  },
  {
   "cell_type": "code",
   "execution_count": 23,
   "metadata": {},
   "outputs": [],
   "source": [
    "# Dictionary of dataframes of unique values in dask.dataframe\n",
    "count_dict = get_counts(ddf)"
   ]
  },
  {
   "cell_type": "code",
   "execution_count": 36,
   "metadata": {},
   "outputs": [
    {
     "data": {
      "text/html": [
       "<div>\n",
       "<style scoped>\n",
       "    .dataframe tbody tr th:only-of-type {\n",
       "        vertical-align: middle;\n",
       "    }\n",
       "\n",
       "    .dataframe tbody tr th {\n",
       "        vertical-align: top;\n",
       "    }\n",
       "\n",
       "    .dataframe thead th {\n",
       "        text-align: right;\n",
       "    }\n",
       "</style>\n",
       "<table border=\"1\" class=\"dataframe\">\n",
       "  <thead>\n",
       "    <tr style=\"text-align: right;\">\n",
       "      <th></th>\n",
       "      <th>job</th>\n",
       "      <th>count</th>\n",
       "    </tr>\n",
       "  </thead>\n",
       "  <tbody>\n",
       "    <tr>\n",
       "      <th>0</th>\n",
       "      <td>ANALYST</td>\n",
       "      <td>863768</td>\n",
       "    </tr>\n",
       "    <tr>\n",
       "      <th>1</th>\n",
       "      <td>CFO</td>\n",
       "      <td>53912</td>\n",
       "    </tr>\n",
       "    <tr>\n",
       "      <th>2</th>\n",
       "      <td>CEO</td>\n",
       "      <td>21779</td>\n",
       "    </tr>\n",
       "    <tr>\n",
       "      <th>3</th>\n",
       "      <td>RESEARCH ANALYST</td>\n",
       "      <td>14174</td>\n",
       "    </tr>\n",
       "    <tr>\n",
       "      <th>4</th>\n",
       "      <td>IR</td>\n",
       "      <td>14134</td>\n",
       "    </tr>\n",
       "    <tr>\n",
       "      <th>5</th>\n",
       "      <td>PRESIDENT AND CEO</td>\n",
       "      <td>13098</td>\n",
       "    </tr>\n",
       "    <tr>\n",
       "      <th>6</th>\n",
       "      <td>PRESIDENT;CEO</td>\n",
       "      <td>12394</td>\n",
       "    </tr>\n",
       "    <tr>\n",
       "      <th>7</th>\n",
       "      <td>PRESIDENT &amp; CEO</td>\n",
       "      <td>11699</td>\n",
       "    </tr>\n",
       "    <tr>\n",
       "      <th>8</th>\n",
       "      <td>MD</td>\n",
       "      <td>8050</td>\n",
       "    </tr>\n",
       "    <tr>\n",
       "      <th>9</th>\n",
       "      <td>CHAIRMAN;CEO</td>\n",
       "      <td>7620</td>\n",
       "    </tr>\n",
       "    <tr>\n",
       "      <th>10</th>\n",
       "      <td>CHAIRMAN AND CEO</td>\n",
       "      <td>7593</td>\n",
       "    </tr>\n",
       "    <tr>\n",
       "      <th>11</th>\n",
       "      <td>CHAIRMAN &amp; CEO</td>\n",
       "      <td>6984</td>\n",
       "    </tr>\n",
       "    <tr>\n",
       "      <th>12</th>\n",
       "      <td>SENIOR ANALYST</td>\n",
       "      <td>6912</td>\n",
       "    </tr>\n",
       "    <tr>\n",
       "      <th>13</th>\n",
       "      <td>EQUITY ANALYST</td>\n",
       "      <td>6706</td>\n",
       "    </tr>\n",
       "    <tr>\n",
       "      <th>14</th>\n",
       "      <td>COO</td>\n",
       "      <td>6206</td>\n",
       "    </tr>\n",
       "    <tr>\n",
       "      <th>15</th>\n",
       "      <td>VP OF IR</td>\n",
       "      <td>6057</td>\n",
       "    </tr>\n",
       "    <tr>\n",
       "      <th>16</th>\n",
       "      <td>PRESIDENT</td>\n",
       "      <td>5628</td>\n",
       "    </tr>\n",
       "    <tr>\n",
       "      <th>17</th>\n",
       "      <td>VP</td>\n",
       "      <td>5463</td>\n",
       "    </tr>\n",
       "    <tr>\n",
       "      <th>18</th>\n",
       "      <td>ASSOCIATE</td>\n",
       "      <td>5206</td>\n",
       "    </tr>\n",
       "    <tr>\n",
       "      <th>19</th>\n",
       "      <td>EVP;CFO</td>\n",
       "      <td>5171</td>\n",
       "    </tr>\n",
       "  </tbody>\n",
       "</table>\n",
       "</div>"
      ],
      "text/plain": [
       "                  job   count\n",
       "0             ANALYST  863768\n",
       "1                 CFO   53912\n",
       "2                 CEO   21779\n",
       "3    RESEARCH ANALYST   14174\n",
       "4                  IR   14134\n",
       "5   PRESIDENT AND CEO   13098\n",
       "6       PRESIDENT;CEO   12394\n",
       "7     PRESIDENT & CEO   11699\n",
       "8                  MD    8050\n",
       "9        CHAIRMAN;CEO    7620\n",
       "10   CHAIRMAN AND CEO    7593\n",
       "11     CHAIRMAN & CEO    6984\n",
       "12     SENIOR ANALYST    6912\n",
       "13     EQUITY ANALYST    6706\n",
       "14                COO    6206\n",
       "15           VP OF IR    6057\n",
       "16          PRESIDENT    5628\n",
       "17                 VP    5463\n",
       "18          ASSOCIATE    5206\n",
       "19            EVP;CFO    5171"
      ]
     },
     "execution_count": 36,
     "metadata": {},
     "output_type": "execute_result"
    }
   ],
   "source": [
    "count_dict['job'].head(20)"
   ]
  },
  {
   "cell_type": "code",
   "execution_count": null,
   "metadata": {},
   "outputs": [],
   "source": []
  }
 ],
 "metadata": {
  "kernelspec": {
   "display_name": ".venv",
   "language": "python",
   "name": "python3"
  },
  "language_info": {
   "codemirror_mode": {
    "name": "ipython",
    "version": 3
   },
   "file_extension": ".py",
   "mimetype": "text/x-python",
   "name": "python",
   "nbconvert_exporter": "python",
   "pygments_lexer": "ipython3",
   "version": "3.10.12"
  }
 },
 "nbformat": 4,
 "nbformat_minor": 2
}
