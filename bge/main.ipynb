{
 "cells": [
  {
   "cell_type": "markdown",
   "metadata": {},
   "source": [
    "### Imports"
   ]
  },
  {
   "cell_type": "code",
   "execution_count": 1,
   "metadata": {},
   "outputs": [
    {
     "name": "stderr",
     "output_type": "stream",
     "text": [
      "/home/quentinmowat-amiet/Documents/Glassdoor/.venv/lib/python3.10/site-packages/tqdm/auto.py:21: TqdmWarning: IProgress not found. Please update jupyter and ipywidgets. See https://ipywidgets.readthedocs.io/en/stable/user_install.html\n",
      "  from .autonotebook import tqdm as notebook_tqdm\n"
     ]
    }
   ],
   "source": [
    "# Thrid party libs\n",
    "from sentence_transformers import SentenceTransformer\n",
    "import dask.dataframe as dd\n",
    "import pandas as pd\n",
    "import numpy as np\n",
    "import matplotlib.pyplot as plt\n",
    "%matplotlib inline\n",
    "plt.style.use('ggplot')\n",
    "\n",
    "# System libs\n",
    "import datetime as dt\n",
    "import time\n",
    "import os\n",
    "import csv\n",
    "import sys\n",
    "sys.path.append(os.path.join(os.getcwd(), \"..\"))\n",
    "\n",
    "\n",
    "# Local imports\n",
    "from utils import get_average_embedding, get_similarity_scores, get_cosdiff_scores #, normalize_embeddings\n",
    "import examples"
   ]
  },
  {
   "cell_type": "markdown",
   "metadata": {},
   "source": [
    "### Config"
   ]
  },
  {
   "cell_type": "code",
   "execution_count": 24,
   "metadata": {},
   "outputs": [],
   "source": [
    "# Data config\n",
    "DATA: str = \"/media/ssdraid/quentinmowat-amiet/Dropbox (IESE)/earnings_calls/Originals/Conference Calls/OLD/ccalls_from_stata.csv\"  # CCALLS_copy.csv\n",
    "DTYPE: dict = {'gvkey': 'int', 'new_text': 'object'}      # {'job': str, 'year': int, 'quarter': str, 'text': str, 'conm': str, 'gvkey': float}, was throwing error\n",
    "JOB: str = \"CEO\"\n",
    "\n",
    "# Model config\n",
    "MODEL_FAMILY: str = 'bge'\n",
    "MODEL: str = f'{MODEL_FAMILY}-large-en-v1.5'\n",
    "MODEL_PATH: str = f'BAAI/{MODEL}'\n",
    "\n",
    "# Export config\n",
    "# PROMPT: str = 'continuous'\n",
    "EXPORT_TYPE: str = \"ecalls\"\n",
    "EXPORT_FILE: str = f'{EXPORT_TYPE}_{MODEL_FAMILY}_{JOB}_test.csv'\n",
    "EXPORT_PATH: str = f'/media/ssdraid/quentinmowat-amiet/Dropbox (IESE)/earnings_calls/outputs/'\n",
    "EXPORT_DATA: str = f'{EXPORT_PATH}{EXPORT_FILE}'\n",
    "\n",
    "EXPORT_PNG: str = 'histograms_of_scores0.png'\n",
    "EXPORT_FIGURE: str = f'{EXPORT_PATH}{EXPORT_PNG}'\n",
    "\n",
    "# Cultural/Structural attributes of interest\n",
    "pos_attributes: list = [\"centralized\"] # , \"autonomous\", \"transparent\"]\n",
    "neg_attributes: list = [\"decentralized\"] # , \"supervised\", \"opaque\"]"
   ]
  },
  {
   "cell_type": "markdown",
   "metadata": {},
   "source": [
    "### Data"
   ]
  },
  {
   "cell_type": "code",
   "execution_count": 3,
   "metadata": {},
   "outputs": [],
   "source": [
    "# Import earnings calls as dask dataframe\n",
    "ddf = dd.read_csv(DATA, dtype = DTYPE)\n",
    "\n",
    "# Subset ddf for questions from media\n",
    "df = ddf[ddf['job'] == JOB].compute().reset_index(drop = True)\n",
    "\n",
    "# Obtain array of questions from text column\n",
    "answers = df['text'].values\n",
    "\n",
    "# Import extreme reviews and example reviews\n",
    "centralized_reviews = examples.centralized_ecalls\n",
    "decentralized_reviews = examples.decentralized_ecalls"
   ]
  },
  {
   "cell_type": "markdown",
   "metadata": {},
   "source": [
    "### Model"
   ]
  },
  {
   "cell_type": "code",
   "execution_count": 4,
   "metadata": {},
   "outputs": [],
   "source": [
    "# Import model\n",
    "model = SentenceTransformer(MODEL_PATH)"
   ]
  },
  {
   "cell_type": "code",
   "execution_count": 5,
   "metadata": {},
   "outputs": [],
   "source": [
    "# Get embdeddings for extreme bag of reviews\n",
    "centralized_embeddings = model.encode(centralized_reviews, normalize_embeddings=True)\n",
    "decentralized_embeddings = model.encode(decentralized_reviews, normalize_embeddings=True)"
   ]
  },
  {
   "cell_type": "code",
   "execution_count": 6,
   "metadata": {},
   "outputs": [],
   "source": [
    "#Important, you need to shield your code with if __name__. Otherwise, CUDA runs into issues when spawning new processes.\n",
    "if __name__ == '__main__':\n",
    "\n",
    "    #Start the multi-process pool on all available CUDA devices\n",
    "    pool = model.start_multi_process_pool()\n",
    "\n",
    "    # Get embeddings for answers in earnings calls\n",
    "    start_time = time.time()\n",
    "    answer_embeddings = model.encode_multi_process(answers, pool) \n",
    "    end_time = time.time()\n",
    "\n",
    "    #Optional: Stop the proccesses in the pool\n",
    "    model.stop_multi_process_pool(pool)"
   ]
  },
  {
   "cell_type": "code",
   "execution_count": 7,
   "metadata": {},
   "outputs": [],
   "source": [
    "# Normalize embeddings\n",
    "# answer_embeddings_normalized = normalize_embeddings(answer_embeddings)"
   ]
  },
  {
   "cell_type": "code",
   "execution_count": 8,
   "metadata": {},
   "outputs": [],
   "source": [
    "# Get average embeddings for extremes\n",
    "average_centralized = get_average_embedding(centralized_embeddings)\n",
    "average_decentralized = get_average_embedding(decentralized_embeddings)"
   ]
  },
  {
   "cell_type": "code",
   "execution_count": 9,
   "metadata": {},
   "outputs": [
    {
     "name": "stdout",
     "output_type": "stream",
     "text": [
      "bge-large-en-v1.5 model completed running in: 0:06:48.047087\n"
     ]
    }
   ],
   "source": [
    "# Print run time\n",
    "elapsed_time = dt.timedelta(seconds = (end_time - start_time))\n",
    "print(f\"{MODEL} model completed running in: {elapsed_time}\")"
   ]
  },
  {
   "cell_type": "code",
   "execution_count": 10,
   "metadata": {},
   "outputs": [],
   "source": [
    "# Get similarity of answers to centralized or decentralized average embedding\n",
    "similarity_scores = get_similarity_scores(answer_embeddings, [average_centralized], [average_decentralized], pos_attributes)\n",
    "cosdiff_scores = get_cosdiff_scores(answer_embeddings, [average_centralized], [average_decentralized], pos_attributes)"
   ]
  },
  {
   "cell_type": "markdown",
   "metadata": {},
   "source": [
    "### Log"
   ]
  },
  {
   "cell_type": "code",
   "execution_count": 11,
   "metadata": {},
   "outputs": [],
   "source": [
    "# Ebbeding counts and dimensions\n",
    "EMBEDDING_COUNT = len(answer_embeddings)\n",
    "EMBEDDING_DIMS = len(answer_embeddings[0])\n",
    "\n",
    "# Define the CSV file path\n",
    "csv_file_path = os.getenv('CSV_FILE', 'log.csv')\n",
    "\n",
    "# Define the headers for the CSV file\n",
    "headers = ['time', 'embeddings', 'dimensions', 'data', 'subset', 'model']\n",
    "\n",
    "# Create a list with the data to be written\n",
    "data = [\n",
    "    {'time': end_time - start_time, 'embeddings': EMBEDDING_COUNT, 'dimensions': EMBEDDING_DIMS, 'data': EXPORT_TYPE, 'subset': JOB, 'model': MODEL}\n",
    "]\n",
    "\n",
    "# Check if the file exists\n",
    "file_exists = os.path.isfile(csv_file_path)\n",
    "\n",
    "# Open the CSV file in append mode\n",
    "with open(csv_file_path, 'a', newline='') as file:\n",
    "    writer = csv.DictWriter(file, fieldnames=headers)\n",
    "\n",
    "    # Write header only if the file is being created for the first time\n",
    "    if not file_exists:\n",
    "        writer.writeheader()\n",
    "\n",
    "    # Append data to the CSV file\n",
    "    writer.writerows(data)"
   ]
  },
  {
   "cell_type": "markdown",
   "metadata": {},
   "source": [
    "### Export"
   ]
  },
  {
   "cell_type": "code",
   "execution_count": 12,
   "metadata": {},
   "outputs": [],
   "source": [
    "# Convert responses dictionary to a DataFrame\n",
    "df_similarity = pd.DataFrame(similarity_scores).T\n",
    "df_cosdiff = pd.DataFrame(cosdiff_scores).T\n",
    "\n",
    "# Merge results df to subset df\n",
    "df_result = (\n",
    "    df.merge(df_similarity.rename(columns={'centralized': 'similarity'}), left_index=True, right_index=True, how='left')\n",
    "      .merge(df_cosdiff.rename(columns={'centralized': 'cos_diff'}), left_index=True, right_index=True, how='left')\n",
    ")\n",
    "\n",
    "# Save results df to csv\n",
    "df_result.to_csv(EXPORT_PATH, index = False)"
   ]
  },
  {
   "cell_type": "markdown",
   "metadata": {},
   "source": [
    "### EDA"
   ]
  },
  {
   "cell_type": "code",
   "execution_count": 13,
   "metadata": {},
   "outputs": [
    {
     "data": {
      "text/html": [
       "<div>\n",
       "<style scoped>\n",
       "    .dataframe tbody tr th:only-of-type {\n",
       "        vertical-align: middle;\n",
       "    }\n",
       "\n",
       "    .dataframe tbody tr th {\n",
       "        vertical-align: top;\n",
       "    }\n",
       "\n",
       "    .dataframe thead th {\n",
       "        text-align: right;\n",
       "    }\n",
       "</style>\n",
       "<table border=\"1\" class=\"dataframe\">\n",
       "  <thead>\n",
       "    <tr style=\"text-align: right;\">\n",
       "      <th></th>\n",
       "      <th>name</th>\n",
       "      <th>company</th>\n",
       "      <th>job</th>\n",
       "      <th>year</th>\n",
       "      <th>quarter</th>\n",
       "      <th>text</th>\n",
       "      <th>document</th>\n",
       "      <th>year_in_file</th>\n",
       "      <th>year_f</th>\n",
       "      <th>year_final</th>\n",
       "      <th>...</th>\n",
       "      <th>merger</th>\n",
       "      <th>acquisition</th>\n",
       "      <th>_merge</th>\n",
       "      <th>conm</th>\n",
       "      <th>gvkey</th>\n",
       "      <th>question_intext</th>\n",
       "      <th>analyst</th>\n",
       "      <th>new_text</th>\n",
       "      <th>similarity</th>\n",
       "      <th>cos_diff</th>\n",
       "    </tr>\n",
       "  </thead>\n",
       "  <tbody>\n",
       "    <tr>\n",
       "      <th>0</th>\n",
       "      <td>CHRISTIE HEFNER</td>\n",
       "      <td>PLAYBOY ENTERPRISES</td>\n",
       "      <td>CEO</td>\n",
       "      <td>2002</td>\n",
       "      <td>Q2</td>\n",
       "      <td>The quarter demonstrates our ability to delive...</td>\n",
       "      <td>fndw000020020807dy86000rw</td>\n",
       "      <td>2002</td>\n",
       "      <td>2002</td>\n",
       "      <td>2002</td>\n",
       "      <td>...</td>\n",
       "      <td>1</td>\n",
       "      <td>0</td>\n",
       "      <td>both in master and using data</td>\n",
       "      <td>Playboy Enterprises</td>\n",
       "      <td>8638</td>\n",
       "      <td>1</td>\n",
       "      <td>0</td>\n",
       "      <td>NaN</td>\n",
       "      <td>0.047633</td>\n",
       "      <td>0.005219</td>\n",
       "    </tr>\n",
       "    <tr>\n",
       "      <th>1</th>\n",
       "      <td>AUBREY MCCLENDON</td>\n",
       "      <td>CHESAPEAKE ENERGY</td>\n",
       "      <td>CEO</td>\n",
       "      <td>2002</td>\n",
       "      <td>Q2</td>\n",
       "      <td>Good morning and thank you for joining Chesape...</td>\n",
       "      <td>fndw000020020809dy7q00001</td>\n",
       "      <td>2002</td>\n",
       "      <td>2002</td>\n",
       "      <td>2002</td>\n",
       "      <td>...</td>\n",
       "      <td>0</td>\n",
       "      <td>1</td>\n",
       "      <td>both in master and using data</td>\n",
       "      <td>Chesapeake Energy</td>\n",
       "      <td>27786</td>\n",
       "      <td>1</td>\n",
       "      <td>0</td>\n",
       "      <td>NaN</td>\n",
       "      <td>0.069001</td>\n",
       "      <td>0.009434</td>\n",
       "    </tr>\n",
       "    <tr>\n",
       "      <th>2</th>\n",
       "      <td>STEVE DODGE</td>\n",
       "      <td>AMERICAN TOWER</td>\n",
       "      <td>CEO</td>\n",
       "      <td>2002</td>\n",
       "      <td>Q2</td>\n",
       "      <td>Thanks, Jim. Our core tower business continues...</td>\n",
       "      <td>fndw000020020809dy8800002</td>\n",
       "      <td>2002</td>\n",
       "      <td>2002</td>\n",
       "      <td>2002</td>\n",
       "      <td>...</td>\n",
       "      <td>0</td>\n",
       "      <td>1</td>\n",
       "      <td>both in master and using data</td>\n",
       "      <td>American Tower</td>\n",
       "      <td>105365</td>\n",
       "      <td>1</td>\n",
       "      <td>0</td>\n",
       "      <td>NaN</td>\n",
       "      <td>0.065635</td>\n",
       "      <td>0.009443</td>\n",
       "    </tr>\n",
       "    <tr>\n",
       "      <th>3</th>\n",
       "      <td>DAVID ROBINSON</td>\n",
       "      <td>LIGAND PHARMACEUTICALS</td>\n",
       "      <td>CEO</td>\n",
       "      <td>2002</td>\n",
       "      <td>Q2</td>\n",
       "      <td>Thanks Mike and thanks everyone for joining us...</td>\n",
       "      <td>fndw000020020821dy8e000yz</td>\n",
       "      <td>2002</td>\n",
       "      <td>2002</td>\n",
       "      <td>2002</td>\n",
       "      <td>...</td>\n",
       "      <td>0</td>\n",
       "      <td>0</td>\n",
       "      <td>both in master and using data</td>\n",
       "      <td>Ligand Pharmaceuticals</td>\n",
       "      <td>25937</td>\n",
       "      <td>1</td>\n",
       "      <td>0</td>\n",
       "      <td>NaN</td>\n",
       "      <td>0.061411</td>\n",
       "      <td>0.008369</td>\n",
       "    </tr>\n",
       "    <tr>\n",
       "      <th>4</th>\n",
       "      <td>LARRY CASTELLANI</td>\n",
       "      <td>ADVANCE AUTO PARTS</td>\n",
       "      <td>CEO</td>\n",
       "      <td>2002</td>\n",
       "      <td>Q2</td>\n",
       "      <td>Thanks, Eric. Good morning, and welcome to our...</td>\n",
       "      <td>fndw000020020821dy8f000zp</td>\n",
       "      <td>2002</td>\n",
       "      <td>2002</td>\n",
       "      <td>2002</td>\n",
       "      <td>...</td>\n",
       "      <td>0</td>\n",
       "      <td>1</td>\n",
       "      <td>both in master and using data</td>\n",
       "      <td>Advance Auto Parts</td>\n",
       "      <td>145977</td>\n",
       "      <td>1</td>\n",
       "      <td>0</td>\n",
       "      <td>NaN</td>\n",
       "      <td>0.084109</td>\n",
       "      <td>0.012983</td>\n",
       "    </tr>\n",
       "  </tbody>\n",
       "</table>\n",
       "<p>5 rows × 22 columns</p>\n",
       "</div>"
      ],
      "text/plain": [
       "               name                 company  job  year quarter  \\\n",
       "0   CHRISTIE HEFNER     PLAYBOY ENTERPRISES  CEO  2002      Q2   \n",
       "1  AUBREY MCCLENDON       CHESAPEAKE ENERGY  CEO  2002      Q2   \n",
       "2       STEVE DODGE          AMERICAN TOWER  CEO  2002      Q2   \n",
       "3    DAVID ROBINSON  LIGAND PHARMACEUTICALS  CEO  2002      Q2   \n",
       "4  LARRY CASTELLANI      ADVANCE AUTO PARTS  CEO  2002      Q2   \n",
       "\n",
       "                                                text  \\\n",
       "0  The quarter demonstrates our ability to delive...   \n",
       "1  Good morning and thank you for joining Chesape...   \n",
       "2  Thanks, Jim. Our core tower business continues...   \n",
       "3  Thanks Mike and thanks everyone for joining us...   \n",
       "4  Thanks, Eric. Good morning, and welcome to our...   \n",
       "\n",
       "                    document  year_in_file  year_f  year_final  ...  merger  \\\n",
       "0  fndw000020020807dy86000rw          2002    2002        2002  ...       1   \n",
       "1  fndw000020020809dy7q00001          2002    2002        2002  ...       0   \n",
       "2  fndw000020020809dy8800002          2002    2002        2002  ...       0   \n",
       "3  fndw000020020821dy8e000yz          2002    2002        2002  ...       0   \n",
       "4  fndw000020020821dy8f000zp          2002    2002        2002  ...       0   \n",
       "\n",
       "   acquisition                         _merge                    conm   gvkey  \\\n",
       "0            0  both in master and using data     Playboy Enterprises    8638   \n",
       "1            1  both in master and using data       Chesapeake Energy   27786   \n",
       "2            1  both in master and using data          American Tower  105365   \n",
       "3            0  both in master and using data  Ligand Pharmaceuticals   25937   \n",
       "4            1  both in master and using data      Advance Auto Parts  145977   \n",
       "\n",
       "  question_intext  analyst  new_text  similarity  cos_diff  \n",
       "0               1        0       NaN    0.047633  0.005219  \n",
       "1               1        0       NaN    0.069001  0.009434  \n",
       "2               1        0       NaN    0.065635  0.009443  \n",
       "3               1        0       NaN    0.061411  0.008369  \n",
       "4               1        0       NaN    0.084109  0.012983  \n",
       "\n",
       "[5 rows x 22 columns]"
      ]
     },
     "execution_count": 13,
     "metadata": {},
     "output_type": "execute_result"
    }
   ],
   "source": [
    "df_result.head()"
   ]
  },
  {
   "cell_type": "code",
   "execution_count": 14,
   "metadata": {},
   "outputs": [
    {
     "data": {
      "text/plain": [
       "count    21779.000000\n",
       "mean         0.034401\n",
       "std          0.063930\n",
       "min         -0.211443\n",
       "25%         -0.008680\n",
       "50%          0.033150\n",
       "75%          0.076384\n",
       "max          0.355045\n",
       "Name: similarity, dtype: float64"
      ]
     },
     "execution_count": 14,
     "metadata": {},
     "output_type": "execute_result"
    }
   ],
   "source": [
    "df_result['similarity'].describe()"
   ]
  },
  {
   "cell_type": "code",
   "execution_count": 15,
   "metadata": {},
   "outputs": [
    {
     "data": {
      "text/plain": [
       "count    21779.000000\n",
       "mean         0.002632\n",
       "std          0.012819\n",
       "min         -0.045088\n",
       "25%         -0.005986\n",
       "50%          0.002382\n",
       "75%          0.011080\n",
       "max          0.067318\n",
       "Name: cos_diff, dtype: float64"
      ]
     },
     "execution_count": 15,
     "metadata": {},
     "output_type": "execute_result"
    }
   ],
   "source": [
    "df_result['cos_diff'].describe()"
   ]
  },
  {
   "cell_type": "code",
   "execution_count": 23,
   "metadata": {},
   "outputs": [
    {
     "data": {
      "image/png": "[encoded data removed]",
      "text/plain": [
       "<Figure size 660x356 with 2 Axes>"
      ]
     },
     "metadata": {},
     "output_type": "display_data"
    }
   ],
   "source": [
    "background_color = '#1E1E24'    # Dark background\n",
    "bin_color = '#4384F5'           # Deep blue for bins\n",
    "grid_line_color = '#6C6C6C'     # Light color for grid lines\n",
    "title_color = '#D1D1D1'         # Light color for titles\n",
    "outline_color = '#2F2F2F'       # A different shade for bin outlines\n",
    "\n",
    "# Histograms for similarity measures\n",
    "hist, ax = plt.subplots(nrows=1, ncols=2, figsize=(6.60, 3.56))\n",
    "hist.set_facecolor(background_color)  # Set the background color of the entire figure\n",
    "\n",
    "# Set common properties for all axes, ticks, and labels\n",
    "for ax, var in zip(ax.flat, df_result.columns[[-2, -1]]):\n",
    "    ax.hist(df_result[var], linewidth=1, edgecolor=outline_color, color=bin_color)\n",
    "    ax.set_facecolor(background_color)  # Set the background color of the axes\n",
    "\n",
    "    ax.set_title(var, color=title_color)\n",
    "\n",
    "    ax.xaxis.label.set_color(title_color)  # Set color of x-axis label\n",
    "    ax.yaxis.label.set_color(title_color)  # Set color of y-axis label\n",
    "\n",
    "    ax.tick_params(axis='x', colors=title_color)  # Set color of x-axis ticks\n",
    "    ax.tick_params(axis='y', colors=title_color)  # Set color of y-axis ticks\n",
    "\n",
    "    ax.grid(color=grid_line_color)  # Set color of grid lines\n",
    "\n",
    "plt.tight_layout()"
   ]
  },
  {
   "cell_type": "code",
   "execution_count": 25,
   "metadata": {},
   "outputs": [
    {
     "data": {
      "text/plain": [
       "<Figure size 640x480 with 0 Axes>"
      ]
     },
     "metadata": {},
     "output_type": "display_data"
    }
   ],
   "source": [
    "# Save figures\n",
    "plt.savefig(EXPORT_FIGURE, dpi=300)  # Adjust the file name and dpi as needed"
   ]
  }
 ],
 "metadata": {
  "kernelspec": {
   "display_name": ".venv",
   "language": "python",
   "name": "python3"
  },
  "language_info": {
   "codemirror_mode": {
    "name": "ipython",
    "version": 3
   },
   "file_extension": ".py",
   "mimetype": "text/x-python",
   "name": "python",
   "nbconvert_exporter": "python",
   "pygments_lexer": "ipython3",
   "version": "3.10.12"
  }
 },
 "nbformat": 4,
 "nbformat_minor": 2
}
